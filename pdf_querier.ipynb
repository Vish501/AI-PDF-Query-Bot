{
 "cells": [
  {
   "cell_type": "markdown",
   "metadata": {},
   "source": [
    "# Importing and Setup"
   ]
  },
  {
   "cell_type": "code",
   "execution_count": 1,
   "metadata": {},
   "outputs": [
    {
     "name": "stderr",
     "output_type": "stream",
     "text": [
      "/usr/local/python/3.12.1/lib/python3.12/site-packages/tqdm/auto.py:21: TqdmWarning: IProgress not found. Please update jupyter and ipywidgets. See https://ipywidgets.readthedocs.io/en/stable/user_install.html\n",
      "  from .autonotebook import tqdm as notebook_tqdm\n"
     ]
    }
   ],
   "source": [
    "# library imports \n",
    "\n",
    "from dotenv import load_dotenv\n",
    "from langchain_google_genai import ChatGoogleGenerativeAI\n",
    "\n",
    "from langchain.indexes.vectorstore import VectorStoreIndexWrapper\n",
    "from langchain.text_splitter import CharacterTextSplitter\n",
    "from langchain.vectorstores.cassandra import Cassandra\n",
    "from langchain_google_genai import GoogleGenerativeAIEmbeddings\n",
    "\n",
    "from datasets import load_dataset\n",
    "from PyPDF2 import PdfReader\n",
    "from typing_extensions import Concatenate\n",
    "\n",
    "import cassio\n",
    "import os"
   ]
  },
  {
   "cell_type": "code",
   "execution_count": 2,
   "metadata": {},
   "outputs": [],
   "source": [
    "import warnings\n",
    "\n",
    "warnings.simplefilter(action=\"ignore\", category=FutureWarning)\n",
    "warnings.filterwarnings(action=\"ignore\", category=DeprecationWarning)"
   ]
  },
  {
   "cell_type": "code",
   "execution_count": 3,
   "metadata": {},
   "outputs": [],
   "source": [
    "os.environ[\"GOOGLE_API_KEY\"] = os.environ[\"GOOGLE_API_KEY\"]\n",
    "os.environ[\"ASTRA_DB_TOKEN\"] = os.environ[\"ASTRA_DB_TOKEN\"]\n",
    "os.environ[\"ASTRA_DB_ID\"] = os.environ[\"ASTRA_DB_ID\"]"
   ]
  },
  {
   "cell_type": "markdown",
   "metadata": {},
   "source": [
    "# Loading and Reading the Dataset"
   ]
  },
  {
   "cell_type": "code",
   "execution_count": 4,
   "metadata": {},
   "outputs": [
    {
     "name": "stdout",
     "output_type": "stream",
     "text": [
      "data/Indian Budget 2025-26.pdf\n"
     ]
    }
   ],
   "source": [
    "# Reading all the filepaths in the dataset\n",
    "for dirname, _, filenames in os.walk('data'):\n",
    "    for filename in filenames:\n",
    "        print(os.path.join(dirname, filename))"
   ]
  },
  {
   "cell_type": "code",
   "execution_count": 5,
   "metadata": {},
   "outputs": [],
   "source": [
    "# Loading the entire dataset into memory\n",
    "pdf_input = PdfReader('data/Indian Budget 2025-26.pdf')"
   ]
  },
  {
   "cell_type": "code",
   "execution_count": 6,
   "metadata": {},
   "outputs": [],
   "source": [
    "# Reading the text form the PDF\n",
    "raw_text = ''\n",
    "\n",
    "for page in pdf_input.pages:\n",
    "    if content := page.extract_text():\n",
    "        raw_text += content"
   ]
  },
  {
   "cell_type": "code",
   "execution_count": 7,
   "metadata": {},
   "outputs": [
    {
     "name": "stdout",
     "output_type": "stream",
     "text": [
      "Lenght of the document: 93092\n",
      "--------------\n",
      "GOVERNMENT OF INDIA\n",
      "BUDGET 2025-2026\n",
      "SPEECH\n",
      "OF\n",
      "NIRMALA SITHARAMAN\n",
      "MINISTER OF FINANCE\n",
      "February 1,  2025 \n",
      "CONTENTS  \n",
      " \n",
      "PART – \n"
     ]
    }
   ],
   "source": [
    "print(f'Lenght of the document: {len(raw_text)}')\n",
    "print('--------------')\n",
    "print(raw_text[:125])"
   ]
  },
  {
   "cell_type": "markdown",
   "metadata": {},
   "source": [
    "# Database and Embeddings"
   ]
  },
  {
   "cell_type": "code",
   "execution_count": 8,
   "metadata": {},
   "outputs": [],
   "source": [
    "# Initializing ASTRA DB database\n",
    "cassio.init(token=os.environ[\"ASTRA_DB_TOKEN\"],\n",
    "            database_id=os.environ[\"ASTRA_DB_ID\"])"
   ]
  },
  {
   "cell_type": "code",
   "execution_count": 9,
   "metadata": {},
   "outputs": [],
   "source": [
    "# Initializing the llm using Google\n",
    "llm = ChatGoogleGenerativeAI(\n",
    "    model=\"gemini-1.5-pro\",\n",
    "    temperature=0,\n",
    "    max_retries=2,\n",
    ")"
   ]
  },
  {
   "cell_type": "code",
   "execution_count": 10,
   "metadata": {},
   "outputs": [
    {
     "name": "stdout",
     "output_type": "stream",
     "text": [
      "Chucks after split: 155\n"
     ]
    }
   ],
   "source": [
    "# Inorder to reduce the token size, splitting the raw_text from the input document\n",
    "# First creating the splitter object and then applying on the raw_text\n",
    "text_splitter = CharacterTextSplitter(\n",
    "    separator=\"\\n\",\n",
    "    chunk_size=800,\n",
    "    chunk_overlap=200,\n",
    "    length_function=len,\n",
    ")\n",
    "\n",
    "texts = text_splitter.split_text(raw_text)\n",
    "print(f'Chucks after split: {len(texts)}')"
   ]
  },
  {
   "cell_type": "code",
   "execution_count": 11,
   "metadata": {},
   "outputs": [
    {
     "data": {
      "text/plain": [
       "['GOVERNMENT OF INDIA\\nBUDGET 2025-2026\\nSPEECH\\nOF\\nNIRMALA SITHARAMAN\\nMINISTER OF FINANCE\\nFebruary 1,  2025 \\nCONTENTS  \\n \\nPART – A \\n Page No.  \\nIntroduction  1 \\nBudget Theme  1 \\nAgriculture as the 1st engine  3 \\nMSMEs as the 2nd engine  6 \\nInvestment as the 3rd engine  8 \\nA. Investing in People  8 \\nB. Investing in  the Economy  10 \\nC. Investing in Innovation  14 \\nExports as the 4th engine  15 \\nReforms as the Fuel  16 \\nFiscal Policy  18 \\n \\n \\nPART – B \\nIndirect taxes  20 \\nDirect Taxes   23 \\n \\nAnnexure to Part -A 29 \\nAnnexure to Part -B 31 \\n \\n   \\n \\nBudget 202 5-2026 \\n \\nSpeech of  \\nNirmala Sitharaman  \\nMinister of Finance  \\nFebruary 1 , 202 5 \\nHon’ble Speaker,  \\n I present the Budget for 2025 -26. \\nIntroduction  \\n1. This Budget continues our Government ’s efforts to:  \\na) accelerate growth,',\n",
       " 'Minister of Finance  \\nFebruary 1 , 202 5 \\nHon’ble Speaker,  \\n I present the Budget for 2025 -26. \\nIntroduction  \\n1. This Budget continues our Government ’s efforts to:  \\na) accelerate growth,  \\nb) secure inclusive development,  \\nc) invigorate private sector investments,  \\nd) uplift household sentiments, and \\ne) enhance spending power of India’s rising middle class.  \\n2. Together, we embark on a journey to unlock our nation’s tremendous \\npotential for greater prosperity and global positioning under the leadership of \\nHon’ble Prime Minister Shri Narendra Modi.  \\n3. As we complete the first quarter of the 21st century, continuing \\ngeopolitical headwinds suggest lower  global economic growth over the \\nmedium term. However, our aspiration for a Viksit Bharat inspires us, and the',\n",
       " 'geopolitical headwinds suggest lower  global economic growth over the \\nmedium term. However, our aspiration for a Viksit Bharat inspires us, and the \\ntransformative work we have done during our Government ’s first two terms \\nguides us, to march forward resolutely.  \\nBudget Theme  \\n4. Our economy is the fastest -growing among all major global economies. \\nOur development track record of the past 10 years and structural reforms have \\ndrawn global attention. Confidence in India’s capability and potential has only  2  \\n \\ngrown in this period. We see the next five years as a unique opportunity to \\nrealize ‘Sabka Vikas’, stimulating balanced growth of all regions.  \\n5. The great Telugu poet and playwright Gurajada Appa Rao had said,',\n",
       " 'realize ‘Sabka Vikas’, stimulating balanced growth of all regions.  \\n5. The great Telugu poet and playwright Gurajada Appa Rao had said, \\n‘Desamante Matti Kaadoi, Desamante Manushuloi ’; meaning, ‘A country is not \\njust its soil, a country is its people.’ In line with this, for us, Viksit Bharat, \\nencompasses:  \\na) zero -poverty;  \\nb) hundred per cent good quality school education;   \\nc) access to high -quality, affordable, and comprehensive healthcare;  \\nd) hundred per cent skilled labour with meaningful employment;  \\ne) seventy per cent women in economic activities; and  \\nf) farmers making our country the ‘food basket of the world’.  \\n6. In this Budget, the proposed development measures span ten broad \\nareas focusing on Garib, Youth, Annadata and Nari.',\n",
       " 'f) farmers making our country the ‘food basket of the world’.  \\n6. In this Budget, the proposed development measures span ten broad \\nareas focusing on Garib, Youth, Annadata and Nari.  \\n1) Spurring Agricultural Growth and Productivity;  \\n2) Building Rural Prosperity and Resilience;  \\n3) Taking Everyone Together on an Inclusive Growth path;  \\n4) Boosting Manufacturing and Furthering Make in India;  \\n5) Supporting MSMEs;  \\n6) Enabling Employment -led Development;  \\n7) Investing in people, economy and innovation;  \\n8) Securing Energy Supplies;  \\n9) Promoting Exports; and  \\n10) Nurturing Innovation . \\n7. For this journey of development,  \\na) Our four powerful engines are: Agriculture, MSME, Investment, and \\nExports  \\nb) The fuel: our Reforms  \\nc) Our guiding spirit: Inclusivity']"
      ]
     },
     "execution_count": 11,
     "metadata": {},
     "output_type": "execute_result"
    }
   ],
   "source": [
    "texts[:5]"
   ]
  },
  {
   "cell_type": "code",
   "execution_count": 12,
   "metadata": {},
   "outputs": [],
   "source": [
    "# Initializing the embeddings creator for the Google LLM\n",
    "embeddings = GoogleGenerativeAIEmbeddings(\n",
    "    model=\"models/text-embedding-004\",\n",
    ")\n",
    "\n",
    "# Initializing the vector storage process\n",
    "astra_vector_storage = Cassandra(\n",
    "    embedding=embeddings,\n",
    "    table_name=\"qa_mini_demo\",\n",
    "    session=None,\n",
    "    keyspace=None,\n",
    ")\n",
    "\n",
    "# Adding the split text into the storage and creating indices\n",
    "astra_vector_storage.add_texts(texts)\n",
    "astra_vector_index = VectorStoreIndexWrapper(vectorstore=astra_vector_storage)"
   ]
  },
  {
   "cell_type": "markdown",
   "metadata": {},
   "source": [
    "# Creating ChatBot"
   ]
  },
  {
   "cell_type": "code",
   "execution_count": 18,
   "metadata": {},
   "outputs": [],
   "source": [
    "def pdf_chatBot():\n",
    "    while True:\n",
    "        query = input('\\nWhat would you like to know about the 2025-26 Budget? (or type \"quit\" to exit): ').strip()\n",
    "        \n",
    "        if query.lower() == 'quit':\n",
    "            break\n",
    "\n",
    "        if query == '':\n",
    "            continue\n",
    "\n",
    "        print(f'Question: {query}')\n",
    "\n",
    "        print(f'Result: {astra_vector_index.query(query, llm=llm).strip()}')\n",
    "\n",
    "        for document, score in astra_vector_storage.similarity_search_with_score(query, k=3):\n",
    "            print(f'Relevent Documents: {score, document.page_content[:92]}')\n",
    "        print('\\n')\n",
    "    \n",
    "    return None"
   ]
  },
  {
   "cell_type": "markdown",
   "metadata": {},
   "source": [
    "# Q&A Bot"
   ]
  },
  {
   "cell_type": "code",
   "execution_count": 19,
   "metadata": {},
   "outputs": [
    {
     "name": "stdout",
     "output_type": "stream",
     "text": [
      "Question: What is the amount recevied by startups as part of the budget\n",
      "Result: Startups have received commitments of more than ₹91,000 crore from Alternate Investment Funds (AIFs).  A new Fund of Funds with a fresh contribution of ₹10,000 crore will also be established to support startups. Additionally, a new scheme will provide term loans up to ₹2 crore for 5 lakh first-time entrepreneurs, including women, Scheduled Castes, and Scheduled Tribes.\n",
      "Relevent Documents: (0.8325711718558805, 'be issued.   7  \\n \\nFund of Funds for Startups  \\n31. The Alternate Investment Funds (AIFs) fo')\n",
      "Relevent Documents: (0.8325711718558805, 'be issued.   7  \\n \\nFund of Funds for Startups  \\n31. The Alternate Investment Funds (AIFs) fo')\n",
      "Relevent Documents: (0.816801128193984, 'enhanced : \\na) For Micro and Small Enterprises, from ` 5 crore to 10 crore, leading \\nto addi')\n",
      "\n",
      "\n",
      "Question: Who is the speaker?\n",
      "Result: Nirmala Sitharaman, Minister of Finance\n",
      "Relevent Documents: (0.7337355121591106, 'GOVERNMENT OF INDIA\\nBUDGET 2025-2026\\nSPEECH\\nOF\\nNIRMALA SITHARAMAN\\nMINISTER OF FINANCE\\nFebrua')\n",
      "Relevent Documents: (0.7337355121591106, 'GOVERNMENT OF INDIA\\nBUDGET 2025-2026\\nSPEECH\\nOF\\nNIRMALA SITHARAMAN\\nMINISTER OF FINANCE\\nFebrua')\n",
      "Relevent Documents: (0.7315071374458031, 'Minister of Finance  \\nFebruary 1 , 202 5 \\nHon’ble Speaker,  \\n I present the Budget for 2025 ')\n",
      "\n",
      "\n"
     ]
    }
   ],
   "source": [
    "pdf_chatBot()"
   ]
  },
  {
   "cell_type": "code",
   "execution_count": null,
   "metadata": {},
   "outputs": [],
   "source": []
  }
 ],
 "metadata": {
  "kernelspec": {
   "display_name": "Python 3",
   "language": "python",
   "name": "python3"
  },
  "language_info": {
   "codemirror_mode": {
    "name": "ipython",
    "version": 3
   },
   "file_extension": ".py",
   "mimetype": "text/x-python",
   "name": "python",
   "nbconvert_exporter": "python",
   "pygments_lexer": "ipython3",
   "version": "3.12.1"
  }
 },
 "nbformat": 4,
 "nbformat_minor": 2
}
